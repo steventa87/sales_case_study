{
 "cells": [
  {
   "cell_type": "markdown",
   "metadata": {},
   "source": [
    "### Import the two CSVs into your scripting environment, under the names 'users' and 'orders'."
   ]
  },
  {
   "cell_type": "code",
   "execution_count": 1,
   "metadata": {},
   "outputs": [],
   "source": [
    "import pandas as pd\n",
    "import numpy as np\n",
    "import matplotlib.pyplot as plt\n",
    "from collections import defaultdict, OrderedDict\n",
    "%matplotlib inline"
   ]
  },
  {
   "cell_type": "code",
   "execution_count": 2,
   "metadata": {},
   "outputs": [],
   "source": [
    "# load both files"
   ]
  },
  {
   "cell_type": "code",
   "execution_count": 3,
   "metadata": {},
   "outputs": [],
   "source": [
    "users = pd.read_csv('users.csv')"
   ]
  },
  {
   "cell_type": "code",
   "execution_count": 4,
   "metadata": {},
   "outputs": [],
   "source": [
    "orders = pd.read_csv('orders.csv')"
   ]
  },
  {
   "cell_type": "code",
   "execution_count": 5,
   "metadata": {},
   "outputs": [],
   "source": [
    "# Get shape and info data for users"
   ]
  },
  {
   "cell_type": "code",
   "execution_count": 6,
   "metadata": {},
   "outputs": [
    {
     "data": {
      "text/plain": [
       "(10000, 5)"
      ]
     },
     "execution_count": 6,
     "metadata": {},
     "output_type": "execute_result"
    }
   ],
   "source": [
    "users.shape"
   ]
  },
  {
   "cell_type": "code",
   "execution_count": 7,
   "metadata": {},
   "outputs": [
    {
     "name": "stdout",
     "output_type": "stream",
     "text": [
      "<class 'pandas.core.frame.DataFrame'>\n",
      "RangeIndex: 10000 entries, 0 to 9999\n",
      "Data columns (total 5 columns):\n",
      "id                      10000 non-null int64\n",
      "gender                  6690 non-null object\n",
      "age                     10000 non-null int64\n",
      "country                 10000 non-null object\n",
      "days_on_site_in_2016    10000 non-null int64\n",
      "dtypes: int64(3), object(2)\n",
      "memory usage: 390.7+ KB\n"
     ]
    }
   ],
   "source": [
    "users.info()"
   ]
  },
  {
   "cell_type": "code",
   "execution_count": 8,
   "metadata": {},
   "outputs": [],
   "source": [
    "# sample of data"
   ]
  },
  {
   "cell_type": "code",
   "execution_count": 9,
   "metadata": {},
   "outputs": [
    {
     "data": {
      "text/html": [
       "<div>\n",
       "<style>\n",
       "    .dataframe thead tr:only-child th {\n",
       "        text-align: right;\n",
       "    }\n",
       "\n",
       "    .dataframe thead th {\n",
       "        text-align: left;\n",
       "    }\n",
       "\n",
       "    .dataframe tbody tr th {\n",
       "        vertical-align: top;\n",
       "    }\n",
       "</style>\n",
       "<table border=\"1\" class=\"dataframe\">\n",
       "  <thead>\n",
       "    <tr style=\"text-align: right;\">\n",
       "      <th></th>\n",
       "      <th>id</th>\n",
       "      <th>gender</th>\n",
       "      <th>age</th>\n",
       "      <th>country</th>\n",
       "      <th>days_on_site_in_2016</th>\n",
       "    </tr>\n",
       "  </thead>\n",
       "  <tbody>\n",
       "    <tr>\n",
       "      <th>0</th>\n",
       "      <td>1</td>\n",
       "      <td>M</td>\n",
       "      <td>21</td>\n",
       "      <td>US</td>\n",
       "      <td>1</td>\n",
       "    </tr>\n",
       "    <tr>\n",
       "      <th>1</th>\n",
       "      <td>2</td>\n",
       "      <td>F</td>\n",
       "      <td>46</td>\n",
       "      <td>US</td>\n",
       "      <td>10</td>\n",
       "    </tr>\n",
       "    <tr>\n",
       "      <th>2</th>\n",
       "      <td>3</td>\n",
       "      <td>NaN</td>\n",
       "      <td>26</td>\n",
       "      <td>US</td>\n",
       "      <td>4</td>\n",
       "    </tr>\n",
       "    <tr>\n",
       "      <th>3</th>\n",
       "      <td>4</td>\n",
       "      <td>NaN</td>\n",
       "      <td>54</td>\n",
       "      <td>US</td>\n",
       "      <td>7</td>\n",
       "    </tr>\n",
       "    <tr>\n",
       "      <th>4</th>\n",
       "      <td>5</td>\n",
       "      <td>F</td>\n",
       "      <td>34</td>\n",
       "      <td>US</td>\n",
       "      <td>38</td>\n",
       "    </tr>\n",
       "  </tbody>\n",
       "</table>\n",
       "</div>"
      ],
      "text/plain": [
       "   id gender  age country  days_on_site_in_2016\n",
       "0   1      M   21      US                     1\n",
       "1   2      F   46      US                    10\n",
       "2   3    NaN   26      US                     4\n",
       "3   4    NaN   54      US                     7\n",
       "4   5      F   34      US                    38"
      ]
     },
     "execution_count": 9,
     "metadata": {},
     "output_type": "execute_result"
    }
   ],
   "source": [
    "users.head()"
   ]
  },
  {
   "cell_type": "code",
   "execution_count": 10,
   "metadata": {},
   "outputs": [
    {
     "data": {
      "text/plain": [
       "(51738, 7)"
      ]
     },
     "execution_count": 10,
     "metadata": {},
     "output_type": "execute_result"
    }
   ],
   "source": [
    "orders.shape"
   ]
  },
  {
   "cell_type": "code",
   "execution_count": 11,
   "metadata": {},
   "outputs": [
    {
     "name": "stdout",
     "output_type": "stream",
     "text": [
      "<class 'pandas.core.frame.DataFrame'>\n",
      "RangeIndex: 51738 entries, 0 to 51737\n",
      "Data columns (total 7 columns):\n",
      "id                   51738 non-null int64\n",
      "user_id              51738 non-null int64\n",
      "order_time           51738 non-null object\n",
      "item_total           51738 non-null float64\n",
      "shipping_cost        51738 non-null int64\n",
      "discounts_applied    4300 non-null float64\n",
      "payment_reject       51738 non-null bool\n",
      "dtypes: bool(1), float64(2), int64(3), object(1)\n",
      "memory usage: 2.4+ MB\n"
     ]
    }
   ],
   "source": [
    "orders.info()"
   ]
  },
  {
   "cell_type": "code",
   "execution_count": 12,
   "metadata": {},
   "outputs": [
    {
     "data": {
      "text/html": [
       "<div>\n",
       "<style>\n",
       "    .dataframe thead tr:only-child th {\n",
       "        text-align: right;\n",
       "    }\n",
       "\n",
       "    .dataframe thead th {\n",
       "        text-align: left;\n",
       "    }\n",
       "\n",
       "    .dataframe tbody tr th {\n",
       "        vertical-align: top;\n",
       "    }\n",
       "</style>\n",
       "<table border=\"1\" class=\"dataframe\">\n",
       "  <thead>\n",
       "    <tr style=\"text-align: right;\">\n",
       "      <th></th>\n",
       "      <th>id</th>\n",
       "      <th>user_id</th>\n",
       "      <th>order_time</th>\n",
       "      <th>item_total</th>\n",
       "      <th>shipping_cost</th>\n",
       "      <th>discounts_applied</th>\n",
       "      <th>payment_reject</th>\n",
       "    </tr>\n",
       "  </thead>\n",
       "  <tbody>\n",
       "    <tr>\n",
       "      <th>0</th>\n",
       "      <td>1</td>\n",
       "      <td>9852</td>\n",
       "      <td>2016-01-01 0:03:11</td>\n",
       "      <td>60.69</td>\n",
       "      <td>10</td>\n",
       "      <td>NaN</td>\n",
       "      <td>False</td>\n",
       "    </tr>\n",
       "    <tr>\n",
       "      <th>1</th>\n",
       "      <td>2</td>\n",
       "      <td>2784</td>\n",
       "      <td>2016-01-01 0:09:32</td>\n",
       "      <td>123.91</td>\n",
       "      <td>15</td>\n",
       "      <td>NaN</td>\n",
       "      <td>False</td>\n",
       "    </tr>\n",
       "    <tr>\n",
       "      <th>2</th>\n",
       "      <td>3</td>\n",
       "      <td>1619</td>\n",
       "      <td>2016-01-01 0:17:26</td>\n",
       "      <td>119.75</td>\n",
       "      <td>15</td>\n",
       "      <td>NaN</td>\n",
       "      <td>False</td>\n",
       "    </tr>\n",
       "    <tr>\n",
       "      <th>3</th>\n",
       "      <td>4</td>\n",
       "      <td>9725</td>\n",
       "      <td>2016-01-01 0:44:04</td>\n",
       "      <td>151.92</td>\n",
       "      <td>15</td>\n",
       "      <td>NaN</td>\n",
       "      <td>False</td>\n",
       "    </tr>\n",
       "    <tr>\n",
       "      <th>4</th>\n",
       "      <td>5</td>\n",
       "      <td>8892</td>\n",
       "      <td>2016-01-01 0:52:23</td>\n",
       "      <td>153.27</td>\n",
       "      <td>15</td>\n",
       "      <td>NaN</td>\n",
       "      <td>False</td>\n",
       "    </tr>\n",
       "  </tbody>\n",
       "</table>\n",
       "</div>"
      ],
      "text/plain": [
       "   id  user_id          order_time  item_total  shipping_cost  \\\n",
       "0   1     9852  2016-01-01 0:03:11       60.69             10   \n",
       "1   2     2784  2016-01-01 0:09:32      123.91             15   \n",
       "2   3     1619  2016-01-01 0:17:26      119.75             15   \n",
       "3   4     9725  2016-01-01 0:44:04      151.92             15   \n",
       "4   5     8892  2016-01-01 0:52:23      153.27             15   \n",
       "\n",
       "   discounts_applied  payment_reject  \n",
       "0                NaN           False  \n",
       "1                NaN           False  \n",
       "2                NaN           False  \n",
       "3                NaN           False  \n",
       "4                NaN           False  "
      ]
     },
     "execution_count": 12,
     "metadata": {},
     "output_type": "execute_result"
    }
   ],
   "source": [
    "orders.head()"
   ]
  },
  {
   "cell_type": "code",
   "execution_count": 13,
   "metadata": {},
   "outputs": [],
   "source": [
    "# We don't need column 'id'. Just the user_id\n",
    "orders.drop(['id'], axis=1, inplace=True)"
   ]
  },
  {
   "cell_type": "markdown",
   "metadata": {},
   "source": [
    "### What factors determine the shipping_cost amount?"
   ]
  },
  {
   "cell_type": "code",
   "execution_count": 14,
   "metadata": {},
   "outputs": [],
   "source": [
    "# merge both tables"
   ]
  },
  {
   "cell_type": "code",
   "execution_count": 15,
   "metadata": {},
   "outputs": [],
   "source": [
    "users_orders = pd.merge(orders, users, how='left', left_on='user_id', right_on='id')"
   ]
  },
  {
   "cell_type": "code",
   "execution_count": 16,
   "metadata": {},
   "outputs": [],
   "source": [
    "users_orders.drop(['id'], axis=1, inplace=True)"
   ]
  },
  {
   "cell_type": "code",
   "execution_count": 17,
   "metadata": {},
   "outputs": [
    {
     "data": {
      "text/html": [
       "<div>\n",
       "<style>\n",
       "    .dataframe thead tr:only-child th {\n",
       "        text-align: right;\n",
       "    }\n",
       "\n",
       "    .dataframe thead th {\n",
       "        text-align: left;\n",
       "    }\n",
       "\n",
       "    .dataframe tbody tr th {\n",
       "        vertical-align: top;\n",
       "    }\n",
       "</style>\n",
       "<table border=\"1\" class=\"dataframe\">\n",
       "  <thead>\n",
       "    <tr style=\"text-align: right;\">\n",
       "      <th></th>\n",
       "      <th>user_id</th>\n",
       "      <th>order_time</th>\n",
       "      <th>item_total</th>\n",
       "      <th>shipping_cost</th>\n",
       "      <th>discounts_applied</th>\n",
       "      <th>payment_reject</th>\n",
       "      <th>gender</th>\n",
       "      <th>age</th>\n",
       "      <th>country</th>\n",
       "      <th>days_on_site_in_2016</th>\n",
       "    </tr>\n",
       "  </thead>\n",
       "  <tbody>\n",
       "    <tr>\n",
       "      <th>0</th>\n",
       "      <td>9852</td>\n",
       "      <td>2016-01-01 0:03:11</td>\n",
       "      <td>60.69</td>\n",
       "      <td>10</td>\n",
       "      <td>NaN</td>\n",
       "      <td>False</td>\n",
       "      <td>NaN</td>\n",
       "      <td>26</td>\n",
       "      <td>US</td>\n",
       "      <td>29</td>\n",
       "    </tr>\n",
       "    <tr>\n",
       "      <th>1</th>\n",
       "      <td>2784</td>\n",
       "      <td>2016-01-01 0:09:32</td>\n",
       "      <td>123.91</td>\n",
       "      <td>15</td>\n",
       "      <td>NaN</td>\n",
       "      <td>False</td>\n",
       "      <td>NaN</td>\n",
       "      <td>47</td>\n",
       "      <td>US</td>\n",
       "      <td>28</td>\n",
       "    </tr>\n",
       "    <tr>\n",
       "      <th>2</th>\n",
       "      <td>1619</td>\n",
       "      <td>2016-01-01 0:17:26</td>\n",
       "      <td>119.75</td>\n",
       "      <td>15</td>\n",
       "      <td>NaN</td>\n",
       "      <td>False</td>\n",
       "      <td>M</td>\n",
       "      <td>40</td>\n",
       "      <td>US</td>\n",
       "      <td>29</td>\n",
       "    </tr>\n",
       "    <tr>\n",
       "      <th>3</th>\n",
       "      <td>9725</td>\n",
       "      <td>2016-01-01 0:44:04</td>\n",
       "      <td>151.92</td>\n",
       "      <td>15</td>\n",
       "      <td>NaN</td>\n",
       "      <td>False</td>\n",
       "      <td>F</td>\n",
       "      <td>40</td>\n",
       "      <td>US</td>\n",
       "      <td>3</td>\n",
       "    </tr>\n",
       "    <tr>\n",
       "      <th>4</th>\n",
       "      <td>8892</td>\n",
       "      <td>2016-01-01 0:52:23</td>\n",
       "      <td>153.27</td>\n",
       "      <td>15</td>\n",
       "      <td>NaN</td>\n",
       "      <td>False</td>\n",
       "      <td>NaN</td>\n",
       "      <td>32</td>\n",
       "      <td>US</td>\n",
       "      <td>10</td>\n",
       "    </tr>\n",
       "  </tbody>\n",
       "</table>\n",
       "</div>"
      ],
      "text/plain": [
       "   user_id          order_time  item_total  shipping_cost  discounts_applied  \\\n",
       "0     9852  2016-01-01 0:03:11       60.69             10                NaN   \n",
       "1     2784  2016-01-01 0:09:32      123.91             15                NaN   \n",
       "2     1619  2016-01-01 0:17:26      119.75             15                NaN   \n",
       "3     9725  2016-01-01 0:44:04      151.92             15                NaN   \n",
       "4     8892  2016-01-01 0:52:23      153.27             15                NaN   \n",
       "\n",
       "   payment_reject gender  age country  days_on_site_in_2016  \n",
       "0           False    NaN   26      US                    29  \n",
       "1           False    NaN   47      US                    28  \n",
       "2           False      M   40      US                    29  \n",
       "3           False      F   40      US                     3  \n",
       "4           False    NaN   32      US                    10  "
      ]
     },
     "execution_count": 17,
     "metadata": {},
     "output_type": "execute_result"
    }
   ],
   "source": [
    "users_orders.head()"
   ]
  },
  {
   "cell_type": "code",
   "execution_count": 18,
   "metadata": {},
   "outputs": [
    {
     "data": {
      "text/plain": [
       "(51738, 10)"
      ]
     },
     "execution_count": 18,
     "metadata": {},
     "output_type": "execute_result"
    }
   ],
   "source": [
    "users_orders.shape"
   ]
  },
  {
   "cell_type": "code",
   "execution_count": 19,
   "metadata": {},
   "outputs": [],
   "source": [
    "# get unique values of shipping costs"
   ]
  },
  {
   "cell_type": "code",
   "execution_count": 20,
   "metadata": {},
   "outputs": [
    {
     "data": {
      "text/plain": [
       "array([10, 15, 25, 20])"
      ]
     },
     "execution_count": 20,
     "metadata": {},
     "output_type": "execute_result"
    }
   ],
   "source": [
    "orders['shipping_cost'].unique()"
   ]
  },
  {
   "cell_type": "code",
   "execution_count": 21,
   "metadata": {},
   "outputs": [],
   "source": [
    "# scatter matrix to see any obvious correlations"
   ]
  },
  {
   "cell_type": "code",
   "execution_count": 22,
   "metadata": {},
   "outputs": [
    {
     "name": "stderr",
     "output_type": "stream",
     "text": [
      "/Users/steventa/anaconda3/lib/python3.6/site-packages/matplotlib/axes/_base.py:2918: UserWarning: Attempting to set identical left==right results\n",
      "in singular transformations; automatically expanding.\n",
      "left=5.0, right=5.0\n",
      "  'left=%s, right=%s') % (left, right))\n",
      "/Users/steventa/anaconda3/lib/python3.6/site-packages/matplotlib/axes/_base.py:3239: UserWarning: Attempting to set identical bottom==top results\n",
      "in singular transformations; automatically expanding.\n",
      "bottom=5.0, top=5.0\n",
      "  'bottom=%s, top=%s') % (bottom, top))\n"
     ]
    },
    {
     "data": {
      "text/plain": [
       "''"
      ]
     },
     "execution_count": 22,
     "metadata": {},
     "output_type": "execute_result"
    },
    {
     "data": {
      "image/png": "[encoded data removed]",
      "text/plain": [
       "<matplotlib.figure.Figure at 0x10df12400>"
      ]
     },
     "metadata": {},
     "output_type": "display_data"
    }
   ],
   "source": [
    "pd.plotting.scatter_matrix(users_orders, figsize=(12,12))\n",
    ";"
   ]
  },
  {
   "cell_type": "code",
   "execution_count": 23,
   "metadata": {},
   "outputs": [],
   "source": [
    "# get correlation scores"
   ]
  },
  {
   "cell_type": "code",
   "execution_count": 24,
   "metadata": {},
   "outputs": [
    {
     "data": {
      "text/html": [
       "<div>\n",
       "<style>\n",
       "    .dataframe thead tr:only-child th {\n",
       "        text-align: right;\n",
       "    }\n",
       "\n",
       "    .dataframe thead th {\n",
       "        text-align: left;\n",
       "    }\n",
       "\n",
       "    .dataframe tbody tr th {\n",
       "        vertical-align: top;\n",
       "    }\n",
       "</style>\n",
       "<table border=\"1\" class=\"dataframe\">\n",
       "  <thead>\n",
       "    <tr style=\"text-align: right;\">\n",
       "      <th></th>\n",
       "      <th>user_id</th>\n",
       "      <th>item_total</th>\n",
       "      <th>shipping_cost</th>\n",
       "      <th>discounts_applied</th>\n",
       "      <th>payment_reject</th>\n",
       "      <th>age</th>\n",
       "      <th>days_on_site_in_2016</th>\n",
       "    </tr>\n",
       "  </thead>\n",
       "  <tbody>\n",
       "    <tr>\n",
       "      <th>user_id</th>\n",
       "      <td>1.000000</td>\n",
       "      <td>0.011033</td>\n",
       "      <td>0.002875</td>\n",
       "      <td>NaN</td>\n",
       "      <td>0.002579</td>\n",
       "      <td>0.006488</td>\n",
       "      <td>-0.014082</td>\n",
       "    </tr>\n",
       "    <tr>\n",
       "      <th>item_total</th>\n",
       "      <td>0.011033</td>\n",
       "      <td>1.000000</td>\n",
       "      <td>0.598568</td>\n",
       "      <td>NaN</td>\n",
       "      <td>0.000142</td>\n",
       "      <td>0.562673</td>\n",
       "      <td>-0.003665</td>\n",
       "    </tr>\n",
       "    <tr>\n",
       "      <th>shipping_cost</th>\n",
       "      <td>0.002875</td>\n",
       "      <td>0.598568</td>\n",
       "      <td>1.000000</td>\n",
       "      <td>NaN</td>\n",
       "      <td>-0.008376</td>\n",
       "      <td>0.260400</td>\n",
       "      <td>0.005374</td>\n",
       "    </tr>\n",
       "    <tr>\n",
       "      <th>discounts_applied</th>\n",
       "      <td>NaN</td>\n",
       "      <td>NaN</td>\n",
       "      <td>NaN</td>\n",
       "      <td>NaN</td>\n",
       "      <td>NaN</td>\n",
       "      <td>NaN</td>\n",
       "      <td>NaN</td>\n",
       "    </tr>\n",
       "    <tr>\n",
       "      <th>payment_reject</th>\n",
       "      <td>0.002579</td>\n",
       "      <td>0.000142</td>\n",
       "      <td>-0.008376</td>\n",
       "      <td>NaN</td>\n",
       "      <td>1.000000</td>\n",
       "      <td>0.004397</td>\n",
       "      <td>0.004387</td>\n",
       "    </tr>\n",
       "    <tr>\n",
       "      <th>age</th>\n",
       "      <td>0.006488</td>\n",
       "      <td>0.562673</td>\n",
       "      <td>0.260400</td>\n",
       "      <td>NaN</td>\n",
       "      <td>0.004397</td>\n",
       "      <td>1.000000</td>\n",
       "      <td>-0.007627</td>\n",
       "    </tr>\n",
       "    <tr>\n",
       "      <th>days_on_site_in_2016</th>\n",
       "      <td>-0.014082</td>\n",
       "      <td>-0.003665</td>\n",
       "      <td>0.005374</td>\n",
       "      <td>NaN</td>\n",
       "      <td>0.004387</td>\n",
       "      <td>-0.007627</td>\n",
       "      <td>1.000000</td>\n",
       "    </tr>\n",
       "  </tbody>\n",
       "</table>\n",
       "</div>"
      ],
      "text/plain": [
       "                       user_id  item_total  shipping_cost  discounts_applied  \\\n",
       "user_id               1.000000    0.011033       0.002875                NaN   \n",
       "item_total            0.011033    1.000000       0.598568                NaN   \n",
       "shipping_cost         0.002875    0.598568       1.000000                NaN   \n",
       "discounts_applied          NaN         NaN            NaN                NaN   \n",
       "payment_reject        0.002579    0.000142      -0.008376                NaN   \n",
       "age                   0.006488    0.562673       0.260400                NaN   \n",
       "days_on_site_in_2016 -0.014082   -0.003665       0.005374                NaN   \n",
       "\n",
       "                      payment_reject       age  days_on_site_in_2016  \n",
       "user_id                     0.002579  0.006488             -0.014082  \n",
       "item_total                  0.000142  0.562673             -0.003665  \n",
       "shipping_cost              -0.008376  0.260400              0.005374  \n",
       "discounts_applied                NaN       NaN                   NaN  \n",
       "payment_reject              1.000000  0.004397              0.004387  \n",
       "age                         0.004397  1.000000             -0.007627  \n",
       "days_on_site_in_2016        0.004387 -0.007627              1.000000  "
      ]
     },
     "execution_count": 24,
     "metadata": {},
     "output_type": "execute_result"
    }
   ],
   "source": [
    "users_orders.corr()"
   ]
  },
  {
   "cell_type": "markdown",
   "metadata": {},
   "source": [
    "#### shipping cost and item total have pearson correlation of ~0.6"
   ]
  },
  {
   "cell_type": "code",
   "execution_count": 25,
   "metadata": {},
   "outputs": [
    {
     "data": {
      "text/plain": [
       "''"
      ]
     },
     "execution_count": 25,
     "metadata": {},
     "output_type": "execute_result"
    },
    {
     "data": {
      "image/png": "[encoded data removed]",
      "text/plain": [
       "<matplotlib.figure.Figure at 0x11b9f7278>"
      ]
     },
     "metadata": {},
     "output_type": "display_data"
    }
   ],
   "source": [
    "# plot relationship item total to shipping cost\n",
    "plt.scatter(users_orders['item_total'], users_orders['shipping_cost'])\n",
    ";"
   ]
  },
  {
   "cell_type": "markdown",
   "metadata": {},
   "source": [
    "#### How about percent of shipping to item total?"
   ]
  },
  {
   "cell_type": "code",
   "execution_count": 26,
   "metadata": {},
   "outputs": [
    {
     "data": {
      "text/html": [
       "<div>\n",
       "<style>\n",
       "    .dataframe thead tr:only-child th {\n",
       "        text-align: right;\n",
       "    }\n",
       "\n",
       "    .dataframe thead th {\n",
       "        text-align: left;\n",
       "    }\n",
       "\n",
       "    .dataframe tbody tr th {\n",
       "        vertical-align: top;\n",
       "    }\n",
       "</style>\n",
       "<table border=\"1\" class=\"dataframe\">\n",
       "  <thead>\n",
       "    <tr style=\"text-align: right;\">\n",
       "      <th></th>\n",
       "      <th>user_id</th>\n",
       "      <th>order_time</th>\n",
       "      <th>item_total</th>\n",
       "      <th>shipping_cost</th>\n",
       "      <th>discounts_applied</th>\n",
       "      <th>payment_reject</th>\n",
       "      <th>gender</th>\n",
       "      <th>age</th>\n",
       "      <th>country</th>\n",
       "      <th>days_on_site_in_2016</th>\n",
       "      <th>precent_cost_shipping</th>\n",
       "    </tr>\n",
       "  </thead>\n",
       "  <tbody>\n",
       "    <tr>\n",
       "      <th>0</th>\n",
       "      <td>9852</td>\n",
       "      <td>2016-01-01 0:03:11</td>\n",
       "      <td>60.69</td>\n",
       "      <td>10</td>\n",
       "      <td>NaN</td>\n",
       "      <td>False</td>\n",
       "      <td>NaN</td>\n",
       "      <td>26</td>\n",
       "      <td>US</td>\n",
       "      <td>29</td>\n",
       "      <td>0.16</td>\n",
       "    </tr>\n",
       "    <tr>\n",
       "      <th>1</th>\n",
       "      <td>2784</td>\n",
       "      <td>2016-01-01 0:09:32</td>\n",
       "      <td>123.91</td>\n",
       "      <td>15</td>\n",
       "      <td>NaN</td>\n",
       "      <td>False</td>\n",
       "      <td>NaN</td>\n",
       "      <td>47</td>\n",
       "      <td>US</td>\n",
       "      <td>28</td>\n",
       "      <td>0.12</td>\n",
       "    </tr>\n",
       "    <tr>\n",
       "      <th>2</th>\n",
       "      <td>1619</td>\n",
       "      <td>2016-01-01 0:17:26</td>\n",
       "      <td>119.75</td>\n",
       "      <td>15</td>\n",
       "      <td>NaN</td>\n",
       "      <td>False</td>\n",
       "      <td>M</td>\n",
       "      <td>40</td>\n",
       "      <td>US</td>\n",
       "      <td>29</td>\n",
       "      <td>0.13</td>\n",
       "    </tr>\n",
       "    <tr>\n",
       "      <th>3</th>\n",
       "      <td>9725</td>\n",
       "      <td>2016-01-01 0:44:04</td>\n",
       "      <td>151.92</td>\n",
       "      <td>15</td>\n",
       "      <td>NaN</td>\n",
       "      <td>False</td>\n",
       "      <td>F</td>\n",
       "      <td>40</td>\n",
       "      <td>US</td>\n",
       "      <td>3</td>\n",
       "      <td>0.10</td>\n",
       "    </tr>\n",
       "    <tr>\n",
       "      <th>4</th>\n",
       "      <td>8892</td>\n",
       "      <td>2016-01-01 0:52:23</td>\n",
       "      <td>153.27</td>\n",
       "      <td>15</td>\n",
       "      <td>NaN</td>\n",
       "      <td>False</td>\n",
       "      <td>NaN</td>\n",
       "      <td>32</td>\n",
       "      <td>US</td>\n",
       "      <td>10</td>\n",
       "      <td>0.10</td>\n",
       "    </tr>\n",
       "  </tbody>\n",
       "</table>\n",
       "</div>"
      ],
      "text/plain": [
       "   user_id          order_time  item_total  shipping_cost  discounts_applied  \\\n",
       "0     9852  2016-01-01 0:03:11       60.69             10                NaN   \n",
       "1     2784  2016-01-01 0:09:32      123.91             15                NaN   \n",
       "2     1619  2016-01-01 0:17:26      119.75             15                NaN   \n",
       "3     9725  2016-01-01 0:44:04      151.92             15                NaN   \n",
       "4     8892  2016-01-01 0:52:23      153.27             15                NaN   \n",
       "\n",
       "   payment_reject gender  age country  days_on_site_in_2016  \\\n",
       "0           False    NaN   26      US                    29   \n",
       "1           False    NaN   47      US                    28   \n",
       "2           False      M   40      US                    29   \n",
       "3           False      F   40      US                     3   \n",
       "4           False    NaN   32      US                    10   \n",
       "\n",
       "   precent_cost_shipping  \n",
       "0                   0.16  \n",
       "1                   0.12  \n",
       "2                   0.13  \n",
       "3                   0.10  \n",
       "4                   0.10  "
      ]
     },
     "execution_count": 26,
     "metadata": {},
     "output_type": "execute_result"
    }
   ],
   "source": [
    "# first make a column that calculates percent of cost shipping\n",
    "users_orders['precent_cost_shipping'] = round(users_orders['shipping_cost'] / users_orders['item_total'],2)\n",
    "# look at precent_cost_shipping column at the end\n",
    "users_orders.head()"
   ]
  },
  {
   "cell_type": "markdown",
   "metadata": {},
   "source": [
    "#### Could it be just an average % for shipping costs?"
   ]
  },
  {
   "cell_type": "code",
   "execution_count": 27,
   "metadata": {},
   "outputs": [
    {
     "data": {
      "text/plain": [
       "11.48"
      ]
     },
     "execution_count": 27,
     "metadata": {},
     "output_type": "execute_result"
    }
   ],
   "source": [
    "round(users_orders['precent_cost_shipping'].mean()*100, 2)"
   ]
  },
  {
   "cell_type": "markdown",
   "metadata": {},
   "source": [
    "#### It's possible the shipping cost is 12% or 10-15%. But let's try to see more relationships"
   ]
  },
  {
   "cell_type": "code",
   "execution_count": 28,
   "metadata": {},
   "outputs": [],
   "source": [
    "# plot distribution of item totals"
   ]
  },
  {
   "cell_type": "code",
   "execution_count": 29,
   "metadata": {},
   "outputs": [
    {
     "data": {
      "text/plain": [
       "''"
      ]
     },
     "execution_count": 29,
     "metadata": {},
     "output_type": "execute_result"
    },
    {
     "data": {
      "image/png": "[encoded data removed]",
      "text/plain": [
       "<matplotlib.figure.Figure at 0x10e697ef0>"
      ]
     },
     "metadata": {},
     "output_type": "display_data"
    }
   ],
   "source": [
    "plt.hist(users_orders['item_total'])\n",
    ";"
   ]
  },
  {
   "cell_type": "code",
   "execution_count": 30,
   "metadata": {},
   "outputs": [],
   "source": [
    "# plot distribution of shipping costs"
   ]
  },
  {
   "cell_type": "code",
   "execution_count": 31,
   "metadata": {},
   "outputs": [
    {
     "data": {
      "text/plain": [
       "''"
      ]
     },
     "execution_count": 31,
     "metadata": {},
     "output_type": "execute_result"
    },
    {
     "data": {
      "image/png": "[encoded data removed]",
      "text/plain": [
       "<matplotlib.figure.Figure at 0x114e007f0>"
      ]
     },
     "metadata": {},
     "output_type": "display_data"
    }
   ],
   "source": [
    "plt.hist(users_orders['shipping_cost'], bins=4)\n",
    ";"
   ]
  },
  {
   "cell_type": "markdown",
   "metadata": {},
   "source": [
    "#### Notice how each unique shipping cost lines up with our distribution of item totals. This may be calculated by range."
   ]
  },
  {
   "cell_type": "code",
   "execution_count": 32,
   "metadata": {},
   "outputs": [],
   "source": [
    "# get range of item total"
   ]
  },
  {
   "cell_type": "code",
   "execution_count": 33,
   "metadata": {},
   "outputs": [
    {
     "data": {
      "text/plain": [
       "180.0"
      ]
     },
     "execution_count": 33,
     "metadata": {},
     "output_type": "execute_result"
    }
   ],
   "source": [
    "max_item_total = users_orders['item_total'].max()\n",
    "min_item_total = users_orders['item_total'].min()\n",
    "range_item_total = max_item_total - min_item_total\n",
    "round(range_item_total)"
   ]
  },
  {
   "cell_type": "code",
   "execution_count": 34,
   "metadata": {},
   "outputs": [],
   "source": [
    "# get class size of 4"
   ]
  },
  {
   "cell_type": "code",
   "execution_count": 35,
   "metadata": {},
   "outputs": [
    {
     "data": {
      "text/plain": [
       "45.0"
      ]
     },
     "execution_count": 35,
     "metadata": {},
     "output_type": "execute_result"
    }
   ],
   "source": [
    "unique_items_size = len(users_orders['shipping_cost'].unique())\n",
    "class_size = range_item_total / unique_items_size\n",
    "round(class_size)"
   ]
  },
  {
   "cell_type": "markdown",
   "metadata": {},
   "source": [
    "#### start with min and calculate each class until max"
   ]
  },
  {
   "cell_type": "code",
   "execution_count": 36,
   "metadata": {},
   "outputs": [
    {
     "data": {
      "text/plain": [
       "OrderedDict([(10, (43, 87)),\n",
       "             (15, (87, 131)),\n",
       "             (20, (131, 175)),\n",
       "             (25, (175, 219))])"
      ]
     },
     "execution_count": 36,
     "metadata": {},
     "output_type": "execute_result"
    }
   ],
   "source": [
    "curr = int(min_item_total)\n",
    "dict_of_class_ranges = OrderedDict()\n",
    "sorted_shipping = sorted(users_orders['shipping_cost'].unique())\n",
    "\n",
    "for item in sorted_shipping:\n",
    "    dict_of_class_ranges[item] = (curr, curr+int(class_size))\n",
    "    curr += int(class_size)\n",
    "    \n",
    "dict_of_class_ranges"
   ]
  },
  {
   "cell_type": "markdown",
   "metadata": {},
   "source": [
    "### Rounded Item total : shipping cost\n",
    "#### 0-100 : 10\n",
    "#### 100-150 : 15\n",
    "#### 150-200 : 20\n",
    "#### 200+ : 25"
   ]
  },
  {
   "cell_type": "markdown",
   "metadata": {},
   "source": [
    "### Freeform: Are there any trends in consumer behavior that you were able to observe?  "
   ]
  },
  {
   "cell_type": "code",
   "execution_count": 37,
   "metadata": {},
   "outputs": [
    {
     "data": {
      "text/html": [
       "<div>\n",
       "<style>\n",
       "    .dataframe thead tr:only-child th {\n",
       "        text-align: right;\n",
       "    }\n",
       "\n",
       "    .dataframe thead th {\n",
       "        text-align: left;\n",
       "    }\n",
       "\n",
       "    .dataframe tbody tr th {\n",
       "        vertical-align: top;\n",
       "    }\n",
       "</style>\n",
       "<table border=\"1\" class=\"dataframe\">\n",
       "  <thead>\n",
       "    <tr style=\"text-align: right;\">\n",
       "      <th></th>\n",
       "      <th>user_id</th>\n",
       "      <th>order_time</th>\n",
       "      <th>item_total</th>\n",
       "      <th>shipping_cost</th>\n",
       "      <th>discounts_applied</th>\n",
       "      <th>payment_reject</th>\n",
       "      <th>gender</th>\n",
       "      <th>age</th>\n",
       "      <th>country</th>\n",
       "      <th>days_on_site_in_2016</th>\n",
       "      <th>precent_cost_shipping</th>\n",
       "    </tr>\n",
       "  </thead>\n",
       "  <tbody>\n",
       "    <tr>\n",
       "      <th>0</th>\n",
       "      <td>9852</td>\n",
       "      <td>2016-01-01 0:03:11</td>\n",
       "      <td>60.69</td>\n",
       "      <td>10</td>\n",
       "      <td>NaN</td>\n",
       "      <td>False</td>\n",
       "      <td>NaN</td>\n",
       "      <td>26</td>\n",
       "      <td>US</td>\n",
       "      <td>29</td>\n",
       "      <td>0.16</td>\n",
       "    </tr>\n",
       "    <tr>\n",
       "      <th>1</th>\n",
       "      <td>2784</td>\n",
       "      <td>2016-01-01 0:09:32</td>\n",
       "      <td>123.91</td>\n",
       "      <td>15</td>\n",
       "      <td>NaN</td>\n",
       "      <td>False</td>\n",
       "      <td>NaN</td>\n",
       "      <td>47</td>\n",
       "      <td>US</td>\n",
       "      <td>28</td>\n",
       "      <td>0.12</td>\n",
       "    </tr>\n",
       "    <tr>\n",
       "      <th>2</th>\n",
       "      <td>1619</td>\n",
       "      <td>2016-01-01 0:17:26</td>\n",
       "      <td>119.75</td>\n",
       "      <td>15</td>\n",
       "      <td>NaN</td>\n",
       "      <td>False</td>\n",
       "      <td>M</td>\n",
       "      <td>40</td>\n",
       "      <td>US</td>\n",
       "      <td>29</td>\n",
       "      <td>0.13</td>\n",
       "    </tr>\n",
       "    <tr>\n",
       "      <th>3</th>\n",
       "      <td>9725</td>\n",
       "      <td>2016-01-01 0:44:04</td>\n",
       "      <td>151.92</td>\n",
       "      <td>15</td>\n",
       "      <td>NaN</td>\n",
       "      <td>False</td>\n",
       "      <td>F</td>\n",
       "      <td>40</td>\n",
       "      <td>US</td>\n",
       "      <td>3</td>\n",
       "      <td>0.10</td>\n",
       "    </tr>\n",
       "    <tr>\n",
       "      <th>4</th>\n",
       "      <td>8892</td>\n",
       "      <td>2016-01-01 0:52:23</td>\n",
       "      <td>153.27</td>\n",
       "      <td>15</td>\n",
       "      <td>NaN</td>\n",
       "      <td>False</td>\n",
       "      <td>NaN</td>\n",
       "      <td>32</td>\n",
       "      <td>US</td>\n",
       "      <td>10</td>\n",
       "      <td>0.10</td>\n",
       "    </tr>\n",
       "  </tbody>\n",
       "</table>\n",
       "</div>"
      ],
      "text/plain": [
       "   user_id          order_time  item_total  shipping_cost  discounts_applied  \\\n",
       "0     9852  2016-01-01 0:03:11       60.69             10                NaN   \n",
       "1     2784  2016-01-01 0:09:32      123.91             15                NaN   \n",
       "2     1619  2016-01-01 0:17:26      119.75             15                NaN   \n",
       "3     9725  2016-01-01 0:44:04      151.92             15                NaN   \n",
       "4     8892  2016-01-01 0:52:23      153.27             15                NaN   \n",
       "\n",
       "   payment_reject gender  age country  days_on_site_in_2016  \\\n",
       "0           False    NaN   26      US                    29   \n",
       "1           False    NaN   47      US                    28   \n",
       "2           False      M   40      US                    29   \n",
       "3           False      F   40      US                     3   \n",
       "4           False    NaN   32      US                    10   \n",
       "\n",
       "   precent_cost_shipping  \n",
       "0                   0.16  \n",
       "1                   0.12  \n",
       "2                   0.13  \n",
       "3                   0.10  \n",
       "4                   0.10  "
      ]
     },
     "execution_count": 37,
     "metadata": {},
     "output_type": "execute_result"
    }
   ],
   "source": [
    "# reminder of our dataset\n",
    "users_orders.head()"
   ]
  },
  {
   "cell_type": "markdown",
   "metadata": {},
   "source": [
    "### Column payment_reject offers a chance to use classification. Can we use the other features (columns) to predict the behavior of payment rejections?"
   ]
  },
  {
   "cell_type": "code",
   "execution_count": 38,
   "metadata": {},
   "outputs": [],
   "source": [
    "# make a copy of our dataset since we're handling a different problem"
   ]
  },
  {
   "cell_type": "code",
   "execution_count": 39,
   "metadata": {},
   "outputs": [],
   "source": [
    "payment_df = users_orders.copy()"
   ]
  },
  {
   "cell_type": "code",
   "execution_count": 40,
   "metadata": {},
   "outputs": [
    {
     "data": {
      "text/html": [
       "<div>\n",
       "<style>\n",
       "    .dataframe thead tr:only-child th {\n",
       "        text-align: right;\n",
       "    }\n",
       "\n",
       "    .dataframe thead th {\n",
       "        text-align: left;\n",
       "    }\n",
       "\n",
       "    .dataframe tbody tr th {\n",
       "        vertical-align: top;\n",
       "    }\n",
       "</style>\n",
       "<table border=\"1\" class=\"dataframe\">\n",
       "  <thead>\n",
       "    <tr style=\"text-align: right;\">\n",
       "      <th></th>\n",
       "      <th>user_id</th>\n",
       "      <th>order_time</th>\n",
       "      <th>item_total</th>\n",
       "      <th>shipping_cost</th>\n",
       "      <th>discounts_applied</th>\n",
       "      <th>payment_reject</th>\n",
       "      <th>gender</th>\n",
       "      <th>age</th>\n",
       "      <th>country</th>\n",
       "      <th>days_on_site_in_2016</th>\n",
       "      <th>precent_cost_shipping</th>\n",
       "    </tr>\n",
       "  </thead>\n",
       "  <tbody>\n",
       "    <tr>\n",
       "      <th>0</th>\n",
       "      <td>9852</td>\n",
       "      <td>2016-01-01 0:03:11</td>\n",
       "      <td>60.69</td>\n",
       "      <td>10</td>\n",
       "      <td>NaN</td>\n",
       "      <td>False</td>\n",
       "      <td>NaN</td>\n",
       "      <td>26</td>\n",
       "      <td>US</td>\n",
       "      <td>29</td>\n",
       "      <td>0.16</td>\n",
       "    </tr>\n",
       "    <tr>\n",
       "      <th>1</th>\n",
       "      <td>2784</td>\n",
       "      <td>2016-01-01 0:09:32</td>\n",
       "      <td>123.91</td>\n",
       "      <td>15</td>\n",
       "      <td>NaN</td>\n",
       "      <td>False</td>\n",
       "      <td>NaN</td>\n",
       "      <td>47</td>\n",
       "      <td>US</td>\n",
       "      <td>28</td>\n",
       "      <td>0.12</td>\n",
       "    </tr>\n",
       "    <tr>\n",
       "      <th>2</th>\n",
       "      <td>1619</td>\n",
       "      <td>2016-01-01 0:17:26</td>\n",
       "      <td>119.75</td>\n",
       "      <td>15</td>\n",
       "      <td>NaN</td>\n",
       "      <td>False</td>\n",
       "      <td>M</td>\n",
       "      <td>40</td>\n",
       "      <td>US</td>\n",
       "      <td>29</td>\n",
       "      <td>0.13</td>\n",
       "    </tr>\n",
       "    <tr>\n",
       "      <th>3</th>\n",
       "      <td>9725</td>\n",
       "      <td>2016-01-01 0:44:04</td>\n",
       "      <td>151.92</td>\n",
       "      <td>15</td>\n",
       "      <td>NaN</td>\n",
       "      <td>False</td>\n",
       "      <td>F</td>\n",
       "      <td>40</td>\n",
       "      <td>US</td>\n",
       "      <td>3</td>\n",
       "      <td>0.10</td>\n",
       "    </tr>\n",
       "    <tr>\n",
       "      <th>4</th>\n",
       "      <td>8892</td>\n",
       "      <td>2016-01-01 0:52:23</td>\n",
       "      <td>153.27</td>\n",
       "      <td>15</td>\n",
       "      <td>NaN</td>\n",
       "      <td>False</td>\n",
       "      <td>NaN</td>\n",
       "      <td>32</td>\n",
       "      <td>US</td>\n",
       "      <td>10</td>\n",
       "      <td>0.10</td>\n",
       "    </tr>\n",
       "  </tbody>\n",
       "</table>\n",
       "</div>"
      ],
      "text/plain": [
       "   user_id          order_time  item_total  shipping_cost  discounts_applied  \\\n",
       "0     9852  2016-01-01 0:03:11       60.69             10                NaN   \n",
       "1     2784  2016-01-01 0:09:32      123.91             15                NaN   \n",
       "2     1619  2016-01-01 0:17:26      119.75             15                NaN   \n",
       "3     9725  2016-01-01 0:44:04      151.92             15                NaN   \n",
       "4     8892  2016-01-01 0:52:23      153.27             15                NaN   \n",
       "\n",
       "   payment_reject gender  age country  days_on_site_in_2016  \\\n",
       "0           False    NaN   26      US                    29   \n",
       "1           False    NaN   47      US                    28   \n",
       "2           False      M   40      US                    29   \n",
       "3           False      F   40      US                     3   \n",
       "4           False    NaN   32      US                    10   \n",
       "\n",
       "   precent_cost_shipping  \n",
       "0                   0.16  \n",
       "1                   0.12  \n",
       "2                   0.13  \n",
       "3                   0.10  \n",
       "4                   0.10  "
      ]
     },
     "execution_count": 40,
     "metadata": {},
     "output_type": "execute_result"
    }
   ],
   "source": [
    "payment_df.head()"
   ]
  },
  {
   "cell_type": "code",
   "execution_count": 41,
   "metadata": {},
   "outputs": [
    {
     "name": "stdout",
     "output_type": "stream",
     "text": [
      "<class 'pandas.core.frame.DataFrame'>\n",
      "Int64Index: 51738 entries, 0 to 51737\n",
      "Data columns (total 11 columns):\n",
      "user_id                  51738 non-null int64\n",
      "order_time               51738 non-null object\n",
      "item_total               51738 non-null float64\n",
      "shipping_cost            51738 non-null int64\n",
      "discounts_applied        4300 non-null float64\n",
      "payment_reject           51738 non-null bool\n",
      "gender                   34352 non-null object\n",
      "age                      51738 non-null int64\n",
      "country                  51738 non-null object\n",
      "days_on_site_in_2016     51738 non-null int64\n",
      "precent_cost_shipping    51738 non-null float64\n",
      "dtypes: bool(1), float64(3), int64(4), object(3)\n",
      "memory usage: 4.4+ MB\n"
     ]
    }
   ],
   "source": [
    "payment_df.info()"
   ]
  },
  {
   "cell_type": "markdown",
   "metadata": {},
   "source": [
    "#### Time to clean our data"
   ]
  },
  {
   "cell_type": "code",
   "execution_count": 42,
   "metadata": {},
   "outputs": [],
   "source": [
    "# To classify using gender, we need to dummify them so as to make them binary choices\n",
    "payment_df['gender'] = pd.get_dummies(payment_df['gender'])"
   ]
  },
  {
   "cell_type": "code",
   "execution_count": 43,
   "metadata": {},
   "outputs": [],
   "source": [
    "# same for country\n",
    "payment_df['country'] = pd.get_dummies(payment_df['country'])"
   ]
  },
  {
   "cell_type": "code",
   "execution_count": 44,
   "metadata": {},
   "outputs": [],
   "source": [
    "# discounts_applied has lots of missing values. Replace with zeros\n",
    "payment_df['discounts_applied'].fillna(value=0, inplace=True)"
   ]
  },
  {
   "cell_type": "code",
   "execution_count": 45,
   "metadata": {},
   "outputs": [
    {
     "name": "stdout",
     "output_type": "stream",
     "text": [
      "<class 'pandas.core.frame.DataFrame'>\n",
      "Int64Index: 51738 entries, 0 to 51737\n",
      "Data columns (total 11 columns):\n",
      "user_id                  51738 non-null int64\n",
      "order_time               51738 non-null object\n",
      "item_total               51738 non-null float64\n",
      "shipping_cost            51738 non-null int64\n",
      "discounts_applied        51738 non-null float64\n",
      "payment_reject           51738 non-null bool\n",
      "gender                   51738 non-null uint8\n",
      "age                      51738 non-null int64\n",
      "country                  51738 non-null uint8\n",
      "days_on_site_in_2016     51738 non-null int64\n",
      "precent_cost_shipping    51738 non-null float64\n",
      "dtypes: bool(1), float64(3), int64(4), object(1), uint8(2)\n",
      "memory usage: 3.7+ MB\n"
     ]
    }
   ],
   "source": [
    "# quick look at data to check for no nulls, objects, strings\n",
    "payment_df.info()"
   ]
  },
  {
   "cell_type": "markdown",
   "metadata": {},
   "source": [
    "#### Import Payment_Decline_Detection class that I built"
   ]
  },
  {
   "cell_type": "code",
   "execution_count": 46,
   "metadata": {},
   "outputs": [],
   "source": [
    "from Payment_Decline_Detection import Payment_Decline_Detection"
   ]
  },
  {
   "cell_type": "code",
   "execution_count": 47,
   "metadata": {},
   "outputs": [],
   "source": [
    "# data split of features and labels (what we will predict)\n",
    "X = payment_df.drop(['payment_reject', 'user_id', 'order_time'], axis=1)\n",
    "y = payment_df['payment_reject']"
   ]
  },
  {
   "cell_type": "code",
   "execution_count": 48,
   "metadata": {},
   "outputs": [
    {
     "data": {
      "text/html": [
       "<div>\n",
       "<style>\n",
       "    .dataframe thead tr:only-child th {\n",
       "        text-align: right;\n",
       "    }\n",
       "\n",
       "    .dataframe thead th {\n",
       "        text-align: left;\n",
       "    }\n",
       "\n",
       "    .dataframe tbody tr th {\n",
       "        vertical-align: top;\n",
       "    }\n",
       "</style>\n",
       "<table border=\"1\" class=\"dataframe\">\n",
       "  <thead>\n",
       "    <tr style=\"text-align: right;\">\n",
       "      <th></th>\n",
       "      <th>item_total</th>\n",
       "      <th>shipping_cost</th>\n",
       "      <th>discounts_applied</th>\n",
       "      <th>gender</th>\n",
       "      <th>age</th>\n",
       "      <th>country</th>\n",
       "      <th>days_on_site_in_2016</th>\n",
       "      <th>precent_cost_shipping</th>\n",
       "    </tr>\n",
       "  </thead>\n",
       "  <tbody>\n",
       "    <tr>\n",
       "      <th>0</th>\n",
       "      <td>60.69</td>\n",
       "      <td>10</td>\n",
       "      <td>0.0</td>\n",
       "      <td>0</td>\n",
       "      <td>26</td>\n",
       "      <td>0</td>\n",
       "      <td>29</td>\n",
       "      <td>0.16</td>\n",
       "    </tr>\n",
       "    <tr>\n",
       "      <th>1</th>\n",
       "      <td>123.91</td>\n",
       "      <td>15</td>\n",
       "      <td>0.0</td>\n",
       "      <td>0</td>\n",
       "      <td>47</td>\n",
       "      <td>0</td>\n",
       "      <td>28</td>\n",
       "      <td>0.12</td>\n",
       "    </tr>\n",
       "    <tr>\n",
       "      <th>2</th>\n",
       "      <td>119.75</td>\n",
       "      <td>15</td>\n",
       "      <td>0.0</td>\n",
       "      <td>0</td>\n",
       "      <td>40</td>\n",
       "      <td>0</td>\n",
       "      <td>29</td>\n",
       "      <td>0.13</td>\n",
       "    </tr>\n",
       "    <tr>\n",
       "      <th>3</th>\n",
       "      <td>151.92</td>\n",
       "      <td>15</td>\n",
       "      <td>0.0</td>\n",
       "      <td>1</td>\n",
       "      <td>40</td>\n",
       "      <td>0</td>\n",
       "      <td>3</td>\n",
       "      <td>0.10</td>\n",
       "    </tr>\n",
       "    <tr>\n",
       "      <th>4</th>\n",
       "      <td>153.27</td>\n",
       "      <td>15</td>\n",
       "      <td>0.0</td>\n",
       "      <td>0</td>\n",
       "      <td>32</td>\n",
       "      <td>0</td>\n",
       "      <td>10</td>\n",
       "      <td>0.10</td>\n",
       "    </tr>\n",
       "  </tbody>\n",
       "</table>\n",
       "</div>"
      ],
      "text/plain": [
       "   item_total  shipping_cost  discounts_applied  gender  age  country  \\\n",
       "0       60.69             10                0.0       0   26        0   \n",
       "1      123.91             15                0.0       0   47        0   \n",
       "2      119.75             15                0.0       0   40        0   \n",
       "3      151.92             15                0.0       1   40        0   \n",
       "4      153.27             15                0.0       0   32        0   \n",
       "\n",
       "   days_on_site_in_2016  precent_cost_shipping  \n",
       "0                    29                   0.16  \n",
       "1                    28                   0.12  \n",
       "2                    29                   0.13  \n",
       "3                     3                   0.10  \n",
       "4                    10                   0.10  "
      ]
     },
     "execution_count": 48,
     "metadata": {},
     "output_type": "execute_result"
    }
   ],
   "source": [
    "X.head()"
   ]
  },
  {
   "cell_type": "code",
   "execution_count": 49,
   "metadata": {},
   "outputs": [
    {
     "data": {
      "text/plain": [
       "0    False\n",
       "1    False\n",
       "2    False\n",
       "3    False\n",
       "4    False\n",
       "Name: payment_reject, dtype: bool"
      ]
     },
     "execution_count": 49,
     "metadata": {},
     "output_type": "execute_result"
    }
   ],
   "source": [
    "y.head()"
   ]
  },
  {
   "cell_type": "code",
   "execution_count": 50,
   "metadata": {},
   "outputs": [],
   "source": [
    "# Run module. Classifier we'll use is Gradient Boosting\n",
    "checker = Payment_Decline_Detection(X, y)"
   ]
  },
  {
   "cell_type": "code",
   "execution_count": 51,
   "metadata": {},
   "outputs": [
    {
     "name": "stdout",
     "output_type": "stream",
     "text": [
      "***** Gradient Boosting *****\n",
      "\n",
      "tp: 0, fn: 141\n",
      "fp: 77, tn: 12717\n",
      "\n",
      "precision score: 0.0\n",
      "\n",
      "recall score: 0.0\n",
      "\n",
      "accuracy score: 0.983146501739\n",
      "\n",
      "\n",
      "\n"
     ]
    },
    {
     "data": {
      "image/png": "[encoded data removed]",
      "text/plain": [
       "<matplotlib.figure.Figure at 0x11b9e8e80>"
      ]
     },
     "metadata": {},
     "output_type": "display_data"
    }
   ],
   "source": [
    "checker.run()"
   ]
  },
  {
   "cell_type": "markdown",
   "metadata": {},
   "source": [
    "#### 0 true positives? Not good."
   ]
  },
  {
   "cell_type": "markdown",
   "metadata": {},
   "source": [
    "#### Also, our ROC curve looks terrible. This is what it should look like:"
   ]
  },
  {
   "cell_type": "markdown",
   "metadata": {},
   "source": [
    "![title](roc_intro3.png)"
   ]
  },
  {
   "cell_type": "markdown",
   "metadata": {},
   "source": [
    "#### Our ROC curve looks like the dotted black line. Which means our model is as good as random."
   ]
  },
  {
   "cell_type": "markdown",
   "metadata": {},
   "source": [
    "### This could be due to our True's of payment decline being such a small fraction of the overall label."
   ]
  },
  {
   "cell_type": "code",
   "execution_count": 52,
   "metadata": {},
   "outputs": [
    {
     "data": {
      "text/plain": [
       "False    51225\n",
       "True       513\n",
       "Name: payment_reject, dtype: int64"
      ]
     },
     "execution_count": 52,
     "metadata": {},
     "output_type": "execute_result"
    }
   ],
   "source": [
    "payment_df['payment_reject'].value_counts()"
   ]
  },
  {
   "cell_type": "markdown",
   "metadata": {},
   "source": [
    "#### True's are only 1% of our overall. A fast way to resolve this is to randomly chop down how many False's we have. "
   ]
  },
  {
   "cell_type": "markdown",
   "metadata": {},
   "source": [
    "#### undersample until the positives get up to at least 20% of entire data set"
   ]
  },
  {
   "cell_type": "code",
   "execution_count": 53,
   "metadata": {},
   "outputs": [],
   "source": [
    "# get isFalse mask\n",
    "isFalse = payment_df['payment_reject'] == False"
   ]
  },
  {
   "cell_type": "code",
   "execution_count": 54,
   "metadata": {},
   "outputs": [],
   "source": [
    "only_false = payment_df[isFalse]"
   ]
  },
  {
   "cell_type": "code",
   "execution_count": 55,
   "metadata": {},
   "outputs": [
    {
     "data": {
      "text/plain": [
       "False    51225\n",
       "Name: payment_reject, dtype: int64"
      ]
     },
     "execution_count": 55,
     "metadata": {},
     "output_type": "execute_result"
    }
   ],
   "source": [
    "only_false['payment_reject'].value_counts()"
   ]
  },
  {
   "cell_type": "code",
   "execution_count": 56,
   "metadata": {},
   "outputs": [],
   "source": [
    "# get sample\n",
    "only_false_cut = only_false.sample(frac=.05, random_state=240)"
   ]
  },
  {
   "cell_type": "code",
   "execution_count": 57,
   "metadata": {},
   "outputs": [],
   "source": [
    "# get isTrue mask\n",
    "isTrue = payment_df['payment_reject'] == True"
   ]
  },
  {
   "cell_type": "code",
   "execution_count": 58,
   "metadata": {},
   "outputs": [],
   "source": [
    "only_true = payment_df[isTrue]"
   ]
  },
  {
   "cell_type": "code",
   "execution_count": 59,
   "metadata": {},
   "outputs": [
    {
     "data": {
      "text/plain": [
       "True    513\n",
       "Name: payment_reject, dtype: int64"
      ]
     },
     "execution_count": 59,
     "metadata": {},
     "output_type": "execute_result"
    }
   ],
   "source": [
    "only_true['payment_reject'].value_counts()"
   ]
  },
  {
   "cell_type": "markdown",
   "metadata": {},
   "source": [
    "#### combine both tables of chopped False's and all of True's"
   ]
  },
  {
   "cell_type": "code",
   "execution_count": 60,
   "metadata": {},
   "outputs": [],
   "source": [
    "payment_df_final = pd.concat([only_false_cut, only_true])"
   ]
  },
  {
   "cell_type": "code",
   "execution_count": 61,
   "metadata": {},
   "outputs": [
    {
     "data": {
      "text/html": [
       "<div>\n",
       "<style>\n",
       "    .dataframe thead tr:only-child th {\n",
       "        text-align: right;\n",
       "    }\n",
       "\n",
       "    .dataframe thead th {\n",
       "        text-align: left;\n",
       "    }\n",
       "\n",
       "    .dataframe tbody tr th {\n",
       "        vertical-align: top;\n",
       "    }\n",
       "</style>\n",
       "<table border=\"1\" class=\"dataframe\">\n",
       "  <thead>\n",
       "    <tr style=\"text-align: right;\">\n",
       "      <th></th>\n",
       "      <th>user_id</th>\n",
       "      <th>order_time</th>\n",
       "      <th>item_total</th>\n",
       "      <th>shipping_cost</th>\n",
       "      <th>discounts_applied</th>\n",
       "      <th>payment_reject</th>\n",
       "      <th>gender</th>\n",
       "      <th>age</th>\n",
       "      <th>country</th>\n",
       "      <th>days_on_site_in_2016</th>\n",
       "      <th>precent_cost_shipping</th>\n",
       "    </tr>\n",
       "  </thead>\n",
       "  <tbody>\n",
       "    <tr>\n",
       "      <th>40710</th>\n",
       "      <td>9178</td>\n",
       "      <td>2016-10-15 14:36:25</td>\n",
       "      <td>79.05</td>\n",
       "      <td>10</td>\n",
       "      <td>0.0</td>\n",
       "      <td>False</td>\n",
       "      <td>0</td>\n",
       "      <td>36</td>\n",
       "      <td>0</td>\n",
       "      <td>15</td>\n",
       "      <td>0.13</td>\n",
       "    </tr>\n",
       "    <tr>\n",
       "      <th>45591</th>\n",
       "      <td>7459</td>\n",
       "      <td>2016-11-18 19:11:55</td>\n",
       "      <td>140.16</td>\n",
       "      <td>15</td>\n",
       "      <td>0.0</td>\n",
       "      <td>False</td>\n",
       "      <td>0</td>\n",
       "      <td>41</td>\n",
       "      <td>0</td>\n",
       "      <td>17</td>\n",
       "      <td>0.11</td>\n",
       "    </tr>\n",
       "    <tr>\n",
       "      <th>49495</th>\n",
       "      <td>7321</td>\n",
       "      <td>2016-12-16 1:41:16</td>\n",
       "      <td>126.94</td>\n",
       "      <td>25</td>\n",
       "      <td>0.0</td>\n",
       "      <td>False</td>\n",
       "      <td>0</td>\n",
       "      <td>48</td>\n",
       "      <td>1</td>\n",
       "      <td>2</td>\n",
       "      <td>0.20</td>\n",
       "    </tr>\n",
       "    <tr>\n",
       "      <th>7729</th>\n",
       "      <td>1511</td>\n",
       "      <td>2016-02-25 5:26:41</td>\n",
       "      <td>100.74</td>\n",
       "      <td>10</td>\n",
       "      <td>0.0</td>\n",
       "      <td>False</td>\n",
       "      <td>0</td>\n",
       "      <td>32</td>\n",
       "      <td>0</td>\n",
       "      <td>29</td>\n",
       "      <td>0.10</td>\n",
       "    </tr>\n",
       "    <tr>\n",
       "      <th>47133</th>\n",
       "      <td>5666</td>\n",
       "      <td>2016-11-29 16:52:59</td>\n",
       "      <td>150.06</td>\n",
       "      <td>15</td>\n",
       "      <td>0.0</td>\n",
       "      <td>False</td>\n",
       "      <td>0</td>\n",
       "      <td>50</td>\n",
       "      <td>0</td>\n",
       "      <td>24</td>\n",
       "      <td>0.10</td>\n",
       "    </tr>\n",
       "  </tbody>\n",
       "</table>\n",
       "</div>"
      ],
      "text/plain": [
       "       user_id           order_time  item_total  shipping_cost  \\\n",
       "40710     9178  2016-10-15 14:36:25       79.05             10   \n",
       "45591     7459  2016-11-18 19:11:55      140.16             15   \n",
       "49495     7321   2016-12-16 1:41:16      126.94             25   \n",
       "7729      1511   2016-02-25 5:26:41      100.74             10   \n",
       "47133     5666  2016-11-29 16:52:59      150.06             15   \n",
       "\n",
       "       discounts_applied  payment_reject  gender  age  country  \\\n",
       "40710                0.0           False       0   36        0   \n",
       "45591                0.0           False       0   41        0   \n",
       "49495                0.0           False       0   48        1   \n",
       "7729                 0.0           False       0   32        0   \n",
       "47133                0.0           False       0   50        0   \n",
       "\n",
       "       days_on_site_in_2016  precent_cost_shipping  \n",
       "40710                    15                   0.13  \n",
       "45591                    17                   0.11  \n",
       "49495                     2                   0.20  \n",
       "7729                     29                   0.10  \n",
       "47133                    24                   0.10  "
      ]
     },
     "execution_count": 61,
     "metadata": {},
     "output_type": "execute_result"
    }
   ],
   "source": [
    "payment_df_final.head()"
   ]
  },
  {
   "cell_type": "code",
   "execution_count": 62,
   "metadata": {},
   "outputs": [
    {
     "data": {
      "text/plain": [
       "False    2561\n",
       "True      513\n",
       "Name: payment_reject, dtype: int64"
      ]
     },
     "execution_count": 62,
     "metadata": {},
     "output_type": "execute_result"
    }
   ],
   "source": [
    "# recount our values\n",
    "payment_df_final['payment_reject'].value_counts()"
   ]
  },
  {
   "cell_type": "code",
   "execution_count": 63,
   "metadata": {},
   "outputs": [
    {
     "data": {
      "text/plain": [
       "20.031237797735262"
      ]
     },
     "execution_count": 63,
     "metadata": {},
     "output_type": "execute_result"
    }
   ],
   "source": [
    "# got 20%\n",
    "(513 / 2561)* 100"
   ]
  },
  {
   "cell_type": "code",
   "execution_count": 64,
   "metadata": {},
   "outputs": [
    {
     "name": "stdout",
     "output_type": "stream",
     "text": [
      "<class 'pandas.core.frame.DataFrame'>\n",
      "Int64Index: 3074 entries, 40710 to 51713\n",
      "Data columns (total 11 columns):\n",
      "user_id                  3074 non-null int64\n",
      "order_time               3074 non-null object\n",
      "item_total               3074 non-null float64\n",
      "shipping_cost            3074 non-null int64\n",
      "discounts_applied        3074 non-null float64\n",
      "payment_reject           3074 non-null bool\n",
      "gender                   3074 non-null uint8\n",
      "age                      3074 non-null int64\n",
      "country                  3074 non-null uint8\n",
      "days_on_site_in_2016     3074 non-null int64\n",
      "precent_cost_shipping    3074 non-null float64\n",
      "dtypes: bool(1), float64(3), int64(4), object(1), uint8(2)\n",
      "memory usage: 225.1+ KB\n"
     ]
    }
   ],
   "source": [
    "payment_df_final.info()"
   ]
  },
  {
   "cell_type": "markdown",
   "metadata": {},
   "source": [
    "#### Now we're ready to retrain our model using our new data set"
   ]
  },
  {
   "cell_type": "code",
   "execution_count": 65,
   "metadata": {},
   "outputs": [],
   "source": [
    "X1 = payment_df_final.drop(['payment_reject', 'order_time', 'user_id'], axis=1)\n",
    "y1 = payment_df_final['payment_reject']"
   ]
  },
  {
   "cell_type": "code",
   "execution_count": 66,
   "metadata": {},
   "outputs": [
    {
     "data": {
      "text/plain": [
       "(3074, 8)"
      ]
     },
     "execution_count": 66,
     "metadata": {},
     "output_type": "execute_result"
    }
   ],
   "source": [
    "X1.shape"
   ]
  },
  {
   "cell_type": "code",
   "execution_count": 67,
   "metadata": {},
   "outputs": [
    {
     "data": {
      "text/plain": [
       "(3074,)"
      ]
     },
     "execution_count": 67,
     "metadata": {},
     "output_type": "execute_result"
    }
   ],
   "source": [
    "y1.shape"
   ]
  },
  {
   "cell_type": "code",
   "execution_count": 68,
   "metadata": {},
   "outputs": [],
   "source": [
    "checker1 = Payment_Decline_Detection(X1, y1)"
   ]
  },
  {
   "cell_type": "code",
   "execution_count": 69,
   "metadata": {},
   "outputs": [
    {
     "name": "stdout",
     "output_type": "stream",
     "text": [
      "***** Gradient Boosting *****\n",
      "\n",
      "tp: 10, fn: 123\n",
      "fp: 44, tn: 592\n",
      "\n",
      "precision score: 0.185185185185\n",
      "\n",
      "recall score: 0.0751879699248\n",
      "\n",
      "accuracy score: 0.782834850455\n",
      "\n",
      "\n",
      "\n"
     ]
    },
    {
     "data": {
      "image/png": "[encoded data removed]",
      "text/plain": [
       "<matplotlib.figure.Figure at 0x114ad4ef0>"
      ]
     },
     "metadata": {},
     "output_type": "display_data"
    }
   ],
   "source": [
    "# run gradient boosting round 2\n",
    "checker1.run()"
   ]
  },
  {
   "cell_type": "code",
   "execution_count": 70,
   "metadata": {},
   "outputs": [
    {
     "data": {
      "text/plain": [
       "[('item_total', 0.65400101010534772),\n",
       " ('age', 0.13853467250331211),\n",
       " ('days_on_site_in_2016', 0.13468365237262298),\n",
       " ('precent_cost_shipping', 0.03532480828836939),\n",
       " ('gender', 0.018308418091804463),\n",
       " ('discounts_applied', 0.011380181899930696),\n",
       " ('shipping_cost', 0.0047625228423081737),\n",
       " ('country', 0.0030047338963036965)]"
      ]
     },
     "execution_count": 70,
     "metadata": {},
     "output_type": "execute_result"
    }
   ],
   "source": [
    "# a list of our models feature importance by rank\n",
    "sorted(list(zip(X1.columns, checker1.gradient_boosting.feature_importances_)), key = lambda x: x[1])[::-1]"
   ]
  },
  {
   "cell_type": "markdown",
   "metadata": {},
   "source": [
    "#### We still have too many false positives. We also have a lot of false negatives. There may not be enough data / features to predict the which payments will be declined."
   ]
  },
  {
   "cell_type": "markdown",
   "metadata": {},
   "source": [
    "### Next steps:\n",
    "    - explode dates out to days, hours, minutes, seconds etc to have more features\n",
    "    - run a grid search to tune parameters for our gradient boost model\n",
    "    - boosting our labels data set to make it bigger\n",
    "    - dig into relationship of age vs item totals"
   ]
  },
  {
   "cell_type": "code",
   "execution_count": null,
   "metadata": {},
   "outputs": [],
   "source": []
  },
  {
   "cell_type": "code",
   "execution_count": null,
   "metadata": {},
   "outputs": [],
   "source": []
  }
 ],
 "metadata": {
  "kernelspec": {
   "display_name": "Python 3",
   "language": "python",
   "name": "python3"
  },
  "language_info": {
   "codemirror_mode": {
    "name": "ipython",
    "version": 3
   },
   "file_extension": ".py",
   "mimetype": "text/x-python",
   "name": "python",
   "nbconvert_exporter": "python",
   "pygments_lexer": "ipython3",
   "version": "3.6.4"
  }
 },
 "nbformat": 4,
 "nbformat_minor": 2
}
